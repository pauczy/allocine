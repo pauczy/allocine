{
 "cells": [
  {
   "cell_type": "code",
   "execution_count": 28,
   "id": "occasional-worth",
   "metadata": {},
   "outputs": [],
   "source": [
    "from selenium.webdriver.common.by import By\n",
    "from selenium import webdriver\n",
    "from selenium.webdriver.support.ui import WebDriverWait\n",
    "from selenium.webdriver.support import expected_conditions as ec\n",
    "from selenium.webdriver.common.action_chains import ActionChains\n",
    "from selenium.webdriver.support.ui import Select\n",
    "from datetime import datetime, timedelta, date\n",
    "import time\n",
    "import pandas as pd"
   ]
  },
  {
   "cell_type": "code",
   "execution_count": 54,
   "id": "attempted-zoning",
   "metadata": {},
   "outputs": [],
   "source": [
    "DATE_FROM = '20221001'\n",
    "DATE_TO = '20221215'"
   ]
  },
  {
   "cell_type": "code",
   "execution_count": 59,
   "id": "injured-assist",
   "metadata": {},
   "outputs": [],
   "source": [
    "def prepare_datestrings():\n",
    "    '''returns a list of datestrings in format YYYYMMDD-YYYYMMDD where both start and end date correspond to consecutive fridays'''\n",
    "    end_date = date(2022, 12, 8)\n",
    "    datestrings = []\n",
    "    while(True):\n",
    "        start_date = end_date - timedelta(days = 6)\n",
    "        if(end_date < date(2022, 10, 1)):\n",
    "            break\n",
    "        else:\n",
    "            datestrings.append(f\"{start_date.strftime('%Y%m%d')}-{end_date.strftime('%Y%m%d')}\")\n",
    "            end_date = end_date - timedelta(days = 7)\n",
    "    return datestrings"
   ]
  },
  {
   "cell_type": "code",
   "execution_count": 61,
   "id": "rapid-march",
   "metadata": {},
   "outputs": [
    {
     "name": "stdout",
     "output_type": "stream",
     "text": [
      "['20221202-20221208', '20221125-20221201', '20221118-20221124', '20221111-20221117', '20221104-20221110', '20221028-20221103', '20221021-20221027', '20221014-20221020', '20221007-20221013', '20220930-20221006']\n"
     ]
    }
   ],
   "source": [
    "datestrings = prepare_datestrings()\n",
    "print(datestrings)\n",
    "# get_data(datestrings)\n",
    "# yt_data = load_data_into_df()\n",
    "# yt_data.to_csv('./YouTube_data{DATE_FROM}-{DATE_TO}.tsv', sep='\\t')"
   ]
  },
  {
   "cell_type": "code",
   "execution_count": 56,
   "id": "silver-sound",
   "metadata": {},
   "outputs": [],
   "source": [
    "def get_data(datestrings):\n",
    "#     !rm ~/Downloads/youtube-charts-top-songs-fr-weekly*\n",
    "    driver = webdriver.Chrome()\n",
    "    driver.maximize_window()\n",
    "    for datestr in datestrings:\n",
    "        driver.get(f'https://charts.youtube.com/charts/TopSongs/fr/{datestr}?hl=pl')\n",
    "        time.sleep(1)\n",
    "        download_elm = driver.find_element(\"xpath\", \".//*[@id='download-button']\")\n",
    "        driver.execute_script(\"arguments[0].click();\", download_elm)\n",
    "        time.sleep(1)\n",
    "    driver.quit()"
   ]
  },
  {
   "cell_type": "code",
   "execution_count": 57,
   "id": "danish-positive",
   "metadata": {},
   "outputs": [],
   "source": [
    "def load_data_into_df():\n",
    "    column_names = ['Rank', 'Previous Rank', 'Track Name', 'Artist Names', 'Weeks on Chart', 'Views',\n",
    "                    'Weekly Growth', 'YouTube URL']\n",
    "    df = pd.DataFrame(columns = column_names)\n",
    "    file_list = !ls ~/Downloads/youtube-charts-top-songs-fr-weekly*\n",
    "    for file_name in file_list:\n",
    "        df = pd.concat([df, pd.read_csv(file_name)])\n",
    "    df = df.drop(columns = ['Rank', 'Previous Rank', 'Weekly Growth', 'YouTube URL', 'Weeks on Chart'])\n",
    "    df = df.groupby(['Track Name', 'Artist Names'], axis=0, as_index=False).sum()\n",
    "    df = df.sort_values('Views', ascending = False, ignore_index = True)\n",
    "    return df"
   ]
  },
  {
   "cell_type": "code",
   "execution_count": null,
   "id": "ideal-relationship",
   "metadata": {},
   "outputs": [],
   "source": []
  }
 ],
 "metadata": {
  "kernelspec": {
   "display_name": "Python 3",
   "language": "python",
   "name": "python3"
  },
  "language_info": {
   "codemirror_mode": {
    "name": "ipython",
    "version": 3
   },
   "file_extension": ".py",
   "mimetype": "text/x-python",
   "name": "python",
   "nbconvert_exporter": "python",
   "pygments_lexer": "ipython3",
   "version": "3.9.14"
  }
 },
 "nbformat": 4,
 "nbformat_minor": 5
}
